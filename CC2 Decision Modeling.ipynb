{
 "cells": [
  {
   "cell_type": "code",
   "execution_count": 169,
   "metadata": {},
   "outputs": [],
   "source": [
    "import math\n",
    "import pandas as pd\n",
    "import matplotlib.pyplot as plt\n",
    "import scipy.odr.odrpack as odrpack\n",
    "from IPython.display import clear_output"
   ]
  },
  {
   "cell_type": "code",
   "execution_count": 163,
   "metadata": {},
   "outputs": [],
   "source": [
    "import random\n",
    "import numpy as np\n",
    "import scipy.stats as st\n",
    "\n",
    "class CovertDecisionModel:\n",
    "    \n",
    "    def __init__(self):\n",
    "        pass\n",
    "        \n",
    "    def convert_k_to_p(self, d_prime, k1, k2):\n",
    "        \n",
    "        a_given_a = st.norm.cdf(k1 + d_prime/2)\n",
    "        b_given_a = 1 - st.norm.cdf(k2 + d_prime/2)\n",
    "        a_given_b = st.norm.cdf(k1 - d_prime/2)\n",
    "        b_given_b = 1 - st.norm.cdf(k2 - d_prime/2)\n",
    "        \n",
    "        p_aa = a_given_a*b_given_a + b_given_a*a_given_a\n",
    "        p_ab = a_given_a*b_given_b + b_given_a*a_given_b\n",
    "        p_ba = a_given_b*b_given_a + b_given_b*a_given_a\n",
    "        p_bb = a_given_b*b_given_b + b_given_b*a_given_b\n",
    "        \n",
    "        p_false = p_aa + p_bb\n",
    "        p_hit = p_ab + p_ba\n",
    "        \n",
    "        return p_false, p_hit\n",
    "        \n",
    "    def convert_k_to_z(self, d_prime, k1, k2):\n",
    "        \n",
    "        p_false, p_hit = self.convert_k_to_p(d_prime, k1, k2)\n",
    "        return st.norm.ppf(p_false), st.norm.ppf(p_hit)\n",
    "        \n",
    "    def sample_k1_k2_values_to_z(self, k_range, d_prime, num_points):\n",
    "        \n",
    "        #CC2a\n",
    "        zf_vals = []\n",
    "        zh_vals = []\n",
    "        \n",
    "        k_range = [n for n in np.linspace(k_range['k_min'], k_range['k_max'], k_range['k_num'])]\n",
    "        for _ in range(num_points):\n",
    "            k1 = random.choice(k_range)\n",
    "            \n",
    "            k2_range = [n for n in k_range if n >= k1]\n",
    "            k2 = random.choice(k2_range)\n",
    "            \n",
    "            z_f, z_h = self.convert_k_to_z(d_prime, k1, k2)\n",
    "            \n",
    "            zf_vals.append(z_f)\n",
    "            zh_vals.append(z_h)\n",
    "            \n",
    "        return zf_vals, zh_vals\n",
    "    \n",
    "    def sample_k1_k2_values_to_p(self, k_range, d_prime, num_points):\n",
    "        \n",
    "        # CC2a\n",
    "        pf_vals = []\n",
    "        ph_vals = []\n",
    "        \n",
    "        k_range = [n for n in np.linspace(k_range['k_min'], k_range['k_max'], k_range['k_num'])]\n",
    "        for _ in range(num_points):\n",
    "            k1 = random.choice(k_range)\n",
    "            \n",
    "            k2_range = [n for n in k_range if n >= k1]\n",
    "            k2 = random.choice(k2_range)\n",
    "            \n",
    "            p_f, p_h = self.convert_k_to_p(d_prime, k1, k2)\n",
    "            \n",
    "            pf_vals.append(p_f)\n",
    "            ph_vals.append(p_h)\n",
    "            \n",
    "        return pf_vals, ph_vals\n",
    "    \n",
    "    def sample_k_values_to_z(self, k_range, d_prime, num_points):\n",
    "        \n",
    "        # CC2s\n",
    "        zf_vals = []\n",
    "        zh_vals = []\n",
    "        \n",
    "        k_range = [n for n in np.linspace(k_range['k_min'], k_range['k_max'], k_range['k_num'])]\n",
    "        for _ in range(num_points):\n",
    "            k = random.choice(k_range)\n",
    "            z_f, z_h = self.convert_k_to_z(d_prime, -k, k)\n",
    "            \n",
    "            zf_vals.append(z_f)\n",
    "            zh_vals.append(z_h)\n",
    "            \n",
    "        return zf_vals, zh_vals\n",
    "    \n",
    "    def sample_k_values_to_p(self, k_range, d_prime, num_points):\n",
    "        \n",
    "        # CC2s\n",
    "        pf_vals = []\n",
    "        ph_vals = []\n",
    "        \n",
    "        k_range = [n for n in np.linspace(k_range['k_min'], k_range['k_max'], k_range['k_num'])]\n",
    "        for _ in range(num_points):\n",
    "            k = random.choice(k_range)\n",
    "            p_f, p_h = self.convert_k_to_p(d_prime, -k, k)\n",
    "            \n",
    "            pf_vals.append(p_f)\n",
    "            ph_vals.append(p_h)\n",
    "            \n",
    "        return pf_vals, ph_vals\n",
    "    \n",
    "    def convert_k_to_p_cc1(self, d_prime, k):\n",
    "        \n",
    "        p_false = (st.norm.cdf(k+d_prime/2)*(1 - st.norm.cdf(k+d_prime/2)) + st.norm.cdf(k-d_prime/2)*(1-st.norm.cdf(k-d_prime/2)))\n",
    "        p_hit = (st.norm.cdf(k+d_prime/2)*(1 - st.norm.cdf(k-d_prime/2)) + st.norm.cdf(k-d_prime/2)*(1-st.norm.cdf(k+d_prime/2)))\n",
    "        \n",
    "        return p_false, p_hit\n",
    "        \n",
    "    def convert_k_to_z_cc1(self, d_prime, k):\n",
    "        \n",
    "        p_false, p_hit = self.convert_k_to_p_cc1(d_prime, k)\n",
    "        return st.norm.ppf(p_false), st.norm.ppf(p_hit)\n",
    "    \n",
    "    def get_k_values_to_z_cc1(self, k_range, d_prime):\n",
    "        \n",
    "        # CC1\n",
    "        zf_vals = []\n",
    "        zh_vals = []\n",
    "        \n",
    "        for k in np.linspace(k_range['k_min'], k_range['k_max'], k_range['k_num']):\n",
    "            z_f, z_h = self.convert_k_to_z_cc1(d_prime, k)\n",
    "            \n",
    "            zf_vals.append(z_f)\n",
    "            zh_vals.append(z_h)\n",
    "            \n",
    "        return zf_vals, zh_vals\n",
    "    \n",
    "    def get_k_values_to_p_cc1(self, k_range, d_prime):\n",
    "        \n",
    "        # CC1\n",
    "        pf_vals = []\n",
    "        ph_vals = []\n",
    "        \n",
    "        for k in np.linspace(k_range['k_min'], k_range['k_max'], k_range['k_num']):\n",
    "            p_f, p_h = self.convert_k_to_p_cc1(d_prime, k)\n",
    "            \n",
    "            pf_vals.append(p_f)\n",
    "            ph_vals.append(p_h)\n",
    "            \n",
    "        return pf_vals, ph_vals\n",
    "    \n",
    "diff_model = CovertDecisionModel()"
   ]
  },
  {
   "cell_type": "code",
   "execution_count": 167,
   "metadata": {},
   "outputs": [
    {
     "data": {
      "text/plain": [
       "Text(0.5, 1.0, \"d'=1\")"
      ]
     },
     "execution_count": 167,
     "metadata": {},
     "output_type": "execute_result"
    },
    {
     "data": {
      "image/png": "[encoded data removed]",
      "text/plain": [
       "<Figure size 432x288 with 1 Axes>"
      ]
     },
     "metadata": {
      "needs_background": "light"
     },
     "output_type": "display_data"
    }
   ],
   "source": [
    "k_range = {'k_min': -10, 'k_max': 10, 'k_num': 1001}\n",
    "zfs, zhs = diff_model.get_k_values_to_p_cc1(k_range, 1)\n",
    "plt.scatter(zfs, zhs)\n",
    "#plt.plot([0, 0.4], [0, 0.4])\n",
    "plt.xlabel('p(fa)')\n",
    "plt.ylabel('p(h)')\n",
    "plt.title('d\\'=1')\n"
   ]
  },
  {
   "cell_type": "code",
   "execution_count": 168,
   "metadata": {},
   "outputs": [
    {
     "data": {
      "text/plain": [
       "Text(0, 0.5, 'z(h)')"
      ]
     },
     "execution_count": 168,
     "metadata": {},
     "output_type": "execute_result"
    },
    {
     "data": {
      "image/png": "[encoded data removed]",
      "text/plain": [
       "<Figure size 432x288 with 1 Axes>"
      ]
     },
     "metadata": {
      "needs_background": "light"
     },
     "output_type": "display_data"
    }
   ],
   "source": [
    "k_range = {'k_min': -10, 'k_max': 10, 'k_num': 1001}\n",
    "zfs, zhs = diff_model.get_k_values_to_z_cc1(k_range, 1)\n",
    "plt.scatter(zfs, zhs)\n",
    "#plt.plot([0, 0.4], [0, 0.4])\n",
    "plt.xlabel('z(fa)')\n",
    "plt.ylabel('z(h)')\n"
   ]
  },
  {
   "cell_type": "markdown",
   "metadata": {},
   "source": [
    "# CC2 k-Value Grid Sampling"
   ]
  },
  {
   "cell_type": "code",
   "execution_count": 118,
   "metadata": {},
   "outputs": [
    {
     "data": {
      "text/plain": [
       "<matplotlib.legend.Legend at 0x124e47f60>"
      ]
     },
     "execution_count": 118,
     "metadata": {},
     "output_type": "execute_result"
    },
    {
     "data": {
      "image/png": "[encoded data removed]",
      "text/plain": [
       "<Figure size 432x288 with 1 Axes>"
      ]
     },
     "metadata": {
      "needs_background": "light"
     },
     "output_type": "display_data"
    }
   ],
   "source": [
    "k_range = {'k_min': -4, 'k_max': 4, 'k_num': 1000}\n",
    "zfa_vals, zha_vals = diff_model.sample_k1_k2_values_to_z(k_range, 1, 500)\n",
    "zfs_vals, zhs_vals = diff_model.sample_k_values_to_z(k_range, 1, 500)\n",
    "\n",
    "plt.scatter(zfa_vals, zha_vals, label='CC2a')\n",
    "plt.scatter(zfs_vals, zhs_vals, label='CC2s')\n",
    "plt.xlabel('z(F)')\n",
    "plt.ylabel('z(H)')\n",
    "plt.title('CC2 k-Sampling (d\\'=1, -4<k<4)')\n",
    "plt.legend()\n",
    "#plt.savefig('results/cc2_sampling_smallk.png')"
   ]
  },
  {
   "cell_type": "code",
   "execution_count": 112,
   "metadata": {},
   "outputs": [
    {
     "data": {
      "text/plain": [
       "<Figure size 576x432 with 0 Axes>"
      ]
     },
     "metadata": {},
     "output_type": "display_data"
    }
   ],
   "source": [
    "# CC2 k-sampling using subject slope-intercept data\n",
    "\n",
    "k_range = {'k_min': -4, 'k_max': 4, 'k_num': 101}\n",
    "dp_range = {'dp_min': 0, 'dp_max': 2, 'dp_num': 11}\n",
    "\n",
    "mb_data = pd.read_csv('data/mb_data.csv', index_col=0)\n",
    "x_vals = [-4, 3]\n",
    "\n",
    "for dp in np.linspace(dp_range['dp_min'], dp_range['dp_max'], dp_range['dp_num']):\n",
    "    zfa_vals, zha_vals = diff_model.sample_k1_k2_values_to_z(k_range, dp, 500)\n",
    "    zfs_vals, zhs_vals = diff_model.sample_k_values_to_z(k_range, dp, 500)\n",
    "\n",
    "    plt.gcf().set_size_inches(8, 6)\n",
    "    plt.scatter(zfa_vals, zha_vals, alpha=0.3, marker='^', facecolor=\"none\", edgecolor='black', label='CC2a')\n",
    "    plt.scatter(zfs_vals, zhs_vals, alpha=0.3, marker='s', facecolor=\"none\", edgecolor='black', label='CC2s')\n",
    "    for index, row in mb_data.iterrows():\n",
    "        slope, intercept = row['Slope'], row['Intercept']\n",
    "        pred_vals = [slope * n + intercept for n in x_vals]\n",
    "        plt.plot(x_vals, pred_vals, color='black', alpha=0.1)\n",
    "    plt.xlabel('z(F)')\n",
    "    plt.ylabel('z(H)')\n",
    "    plt.xlim(-4, 3)\n",
    "    plt.ylim(-4, 3)\n",
    "    plt.title(f'CC2 k-Value Sampling (d\\'={round(dp,2)}, 0<k<4)')\n",
    "    plt.legend()\n",
    "    plt.savefig(f'results/k_sampling{round(dp,2)}.png')\n",
    "    plt.clf()\n",
    "    "
   ]
  },
  {
   "cell_type": "code",
   "execution_count": 123,
   "metadata": {},
   "outputs": [
    {
     "data": {
      "text/plain": [
       "<Figure size 576x432 with 0 Axes>"
      ]
     },
     "metadata": {},
     "output_type": "display_data"
    }
   ],
   "source": [
    "# CC2 k-sampling w/ subject z-value data\n",
    "\n",
    "k_range = {'k_min': -5, 'k_max': 5, 'k_num': 201}\n",
    "dp_range = {'dp_min': 0, 'dp_max': 2.5, 'dp_num': 26}\n",
    "\n",
    "data = pd.read_csv('data/z_data.csv', index_col=0)\n",
    "x_vals = [-4, 3]\n",
    "explained_subs = ['LY', 'YJZ', 'HZL', 'LJJ']\n",
    "\n",
    "for dp in np.linspace(dp_range['dp_min'], dp_range['dp_max'], dp_range['dp_num']):\n",
    "    zfa_vals, zha_vals = diff_model.sample_k1_k2_values_to_z(k_range, dp, 1000)\n",
    "    zfs_vals, zhs_vals = diff_model.sample_k_values_to_z(k_range, dp, 500)\n",
    "\n",
    "    plt.gcf().set_size_inches(8, 6)\n",
    "    plt.scatter(zfa_vals, zha_vals, alpha=0.3, marker='^', facecolor=\"none\", edgecolor='black', label='CC2a')\n",
    "    plt.scatter(zfs_vals, zhs_vals, alpha=0.3, marker='s', facecolor=\"none\", edgecolor='black', label='CC2s')\n",
    "\n",
    "    for i in range(len(data)):\n",
    "        sub_data = data.iloc[i]\n",
    "        if sub_data['Subject'] in explained_subs:\n",
    "            alpha = 0.3\n",
    "            zf_vals = sub_data.filter(like='ZF').tolist()\n",
    "            zh_vals = sub_data.filter(like='ZH').tolist()\n",
    "            plt.plot(zf_vals, zh_vals, color='black', alpha=alpha)    \n",
    "    \n",
    "    plt.xlabel('z(F)')\n",
    "    plt.ylabel('z(H)')\n",
    "    plt.xlim(-4, 3)\n",
    "    plt.ylim(-4, 3)\n",
    "    plt.title(f'CC2 k-Value Sampling (d\\'={round(dp,2)}, -4<k<4)')\n",
    "    plt.legend()\n",
    "    plt.savefig(f'results/k_sampling{round(dp,2)}.png')\n",
    "    plt.clf()\n"
   ]
  },
  {
   "cell_type": "code",
   "execution_count": 125,
   "metadata": {},
   "outputs": [
    {
     "data": {
      "text/plain": [
       "<Figure size 576x432 with 0 Axes>"
      ]
     },
     "metadata": {},
     "output_type": "display_data"
    }
   ],
   "source": [
    "# CC2 k-sampling w/ subject p-value data\n",
    "\n",
    "k_range = {'k_min': -4, 'k_max': 4, 'k_num': 201}\n",
    "dp_range = {'dp_min': 0, 'dp_max': 2.5, 'dp_num': 26}\n",
    "\n",
    "data = pd.read_csv('data/p_data.csv', index_col=0)\n",
    "x_vals = [-4, 3]\n",
    "explained_subs = ['LY', 'YJZ', 'HZL', 'LJJ']\n",
    "\n",
    "for dp in np.linspace(dp_range['dp_min'], dp_range['dp_max'], dp_range['dp_num']):\n",
    "    pfa_vals, pha_vals = diff_model.sample_k1_k2_values_to_p(k_range, dp, 1000)\n",
    "    pfs_vals, phs_vals = diff_model.sample_k_values_to_p(k_range, dp, 500)\n",
    "\n",
    "    plt.gcf().set_size_inches(8, 6)\n",
    "    plt.scatter(pfa_vals, pha_vals, alpha=0.3, marker='^', facecolor=\"none\", edgecolor='black', label='CC2a')\n",
    "    plt.scatter(pfs_vals, phs_vals, alpha=0.3, marker='s', facecolor=\"none\", edgecolor='black', label='CC2s')\n",
    "\n",
    "    for i in range(len(data)):\n",
    "        sub_data = data.iloc[i]\n",
    "        if sub_data['Subject'].replace('\\'', \"\") in explained_subs:\n",
    "            alpha = 0.3\n",
    "            pf_vals = sub_data.filter(like='PF').tolist()\n",
    "            ph_vals = sub_data.filter(like='PH').tolist()\n",
    "            plt.plot(pf_vals, ph_vals, color='black', alpha=alpha)    \n",
    "    \n",
    "    plt.xlabel('p(F)')\n",
    "    plt.ylabel('p(H)')\n",
    "    plt.xlim(0, 1)\n",
    "    plt.ylim(0, 1)\n",
    "    plt.title(f'CC2 k-Value Sampling (d\\'={round(dp,2)}, -4<k<4)')\n",
    "    plt.legend()\n",
    "    plt.savefig(f'results/k_sampling{round(dp,2)}.png')\n",
    "    plt.clf()\n"
   ]
  },
  {
   "cell_type": "markdown",
   "metadata": {},
   "source": [
    "# Analyzing CC1 ROC Fit"
   ]
  },
  {
   "cell_type": "code",
   "execution_count": 171,
   "metadata": {},
   "outputs": [],
   "source": [
    "def distance(point, coef):\n",
    "    return abs((coef[0]*point[0])-point[1]+coef[1])/math.sqrt((coef[0]*coef[0])+1)\n",
    "\n",
    "def f(B, x):\n",
    "    return B[0]*x + B[1]\n",
    "linear = odrpack.Model(f)"
   ]
  },
  {
   "cell_type": "code",
   "execution_count": 204,
   "metadata": {},
   "outputs": [
    {
     "name": "stdout",
     "output_type": "stream",
     "text": [
      "CSF TLS slope: 1.0028619619006445\n",
      "TLS value: 49.35050270087704\n",
      "HZL TLS slope: 0.8388150456298428\n",
      "TLS value: 145.01584251228996\n",
      "LJJ TLS slope: 0.821745211910352\n",
      "TLS value: 163.2094742999399\n",
      "LT TLS slope: 0.905964790070835\n",
      "TLS value: 136.54266524856624\n",
      "ZBY TLS slope: 0.8016524510555929\n",
      "TLS value: 130.70580254353422\n",
      "ZBY TLS slope: 1.102787790941932\n",
      "TLS value: 141.67963866459507\n",
      "DLC TLS slope: 1.0277976800645598\n",
      "TLS value: 4.7493196912019355\n",
      "GAX TLS slope: 1.1368243854933529\n",
      "TLS value: 45.48847229601816\n",
      "HMH TLS slope: 1.0062878358531209\n",
      "TLS value: 15.401411477797062\n",
      "LMT TLS slope: 1.045244291738568\n",
      "TLS value: 18.792615274683875\n",
      "LY TLS slope: 0.8430938818981506\n",
      "TLS value: 48.237251004538194\n",
      "PC TLS slope: 0.9450103493481479\n",
      "TLS value: 16.876396241263766\n",
      "SZJ TLS slope: 1.010588634237981\n",
      "TLS value: 23.63763459144537\n",
      "WYX TLS slope: 1.16648171357917\n",
      "TLS value: 48.77718146839527\n",
      "YJZ TLS slope: 0.9385283296600431\n",
      "TLS value: 20.89767833813628\n",
      "ZJ TLS slope: 1.0048930538391838\n",
      "TLS value: 2.1140299203907054\n"
     ]
    },
    {
     "data": {
      "text/plain": [
       "<Figure size 576x432 with 0 Axes>"
      ]
     },
     "metadata": {},
     "output_type": "display_data"
    }
   ],
   "source": [
    "k_range = {'k_min': -4, 'k_max': 4, 'k_num': 201}\n",
    "dp_range = {'dp_min': 0, 'dp_max': 2.5, 'dp_num': 101}\n",
    "\n",
    "z_data = pd.read_csv('data/z_data.csv', index_col=0)\n",
    "p_data = pd.read_csv('data/p_data.csv', index_col=0)\n",
    "p_data['Subject'] = p_data['Subject'].str.replace('\\'', '')\n",
    "x_vals = [-5, 5]\n",
    "explained_subs = ['LY', 'YJZ', 'HZL', 'LJJ', 'CSF','LT','ZBY','DLC','HMH','GAX','LMT','PC','SZJ','WYX','ZJ']\n",
    "\n",
    "for i in range(len(z_data)):\n",
    "    \n",
    "    z_sub_data = z_data.iloc[i]\n",
    "    subject = z_sub_data['Subject'].replace('\\'', \"\")\n",
    "\n",
    "    if subject in explained_subs:    \n",
    "\n",
    "        # Unpack subject data\n",
    "        zf_vals = [n for n in z_sub_data.filter(like='ZF').tolist() if n != 0]\n",
    "        zh_vals = [n for n in z_sub_data.filter(like='ZH').tolist() if n != 0]\n",
    "        pf_vals = [st.norm.cdf(z) for z in zf_vals]\n",
    "        ph_vals = [st.norm.cdf(z) for z in zh_vals]\n",
    "\n",
    "        # Find subject TLS regression line\n",
    "        odr_data = odrpack.RealData(zf_vals, zh_vals)\n",
    "        odr = odrpack.ODR(odr_data, linear, beta0=[1., 1.])\n",
    "        subject_slope, subject_intercept = odr.run().beta\n",
    "        print(f'{subject} TLS slope: {subject_slope}')\n",
    "        \n",
    "        # Find d' that yields closest fitting z-ROC\n",
    "        lowest_tls = np.inf\n",
    "        best_dp = 0\n",
    "        for dp in np.linspace(dp_range['dp_min'], dp_range['dp_max'], dp_range['dp_num']):\n",
    "            zfm_vals, zhm_vals = diff_model.get_k_values_to_z_cc1(k_range, dp)\n",
    "            \n",
    "            if len(zfm_vals) < 2:\n",
    "                continue\n",
    "            \n",
    "            coef = [subject_slope, subject_intercept]\n",
    "            tls = np.sum([distance([f, h], coef) for f, h in zip(zfm_vals, zhm_vals)])\n",
    "\n",
    "            if tls < lowest_tls:\n",
    "                lowest_tls = tls\n",
    "                best_dp = dp\n",
    "\n",
    "        print(f\"TLS value: {lowest_tls}\")\n",
    "        \n",
    "        # Plot z-ROC\n",
    "        plt.gcf().set_size_inches(8, 6)\n",
    "        y_pred = [subject_intercept + subject_slope * n for n in x_vals]\n",
    "        plt.plot(zf_vals, zh_vals, color='black', label='Human Data')\n",
    "        zfm_vals, zhm_vals = diff_model.get_k_values_to_z_cc1(k_range, best_dp)\n",
    "        plt.plot(x_vals, y_pred, color='black', linestyle='--', alpha=0.2, label=f'Human ROC: y={round(subject_intercept, 3)}+{round(subject_slope, 3)}x')\n",
    "        plt.plot(zfm_vals, zhm_vals, color='black', alpha=0.5, label='Model ROC')\n",
    "\n",
    "        plt.xlabel('z(F)')\n",
    "        plt.ylabel('z(H)')\n",
    "        plt.xlim(-4, 3)\n",
    "        plt.ylim(-4, 3)\n",
    "        subject_acc = round(z_sub_data['Accuracy'], 3)\n",
    "        model_acc = round((st.norm.cdf(best_dp/2))**2 + (st.norm.cdf(-best_dp/2))**2, 3)\n",
    "        plt.title(f'CC1 Subject {subject} ROC Fitting (d\\'={round(best_dp,3)})\\nSubject Accuracy: {subject_acc}    Model Accuracy: {model_acc}')\n",
    "        plt.legend()\n",
    "        plt.savefig(f'results/output/cc1_zmodel_{subject}.png')\n",
    "        plt.clf()\n",
    "        \n",
    "        # Plot p-ROC\n",
    "        plt.gcf().set_size_inches(8, 6)\n",
    "        plt.plot(pf_vals, ph_vals, color='black', label='Human Data')\n",
    "        temp_x = np.linspace(-4, 3, 26)\n",
    "        y_pred = [subject_intercept + subject_slope * n for n in temp_x]\n",
    "        temp_x = [st.norm.cdf(val) for val in temp_x]\n",
    "        y_pred = [st.norm.cdf(val) for val in y_pred]\n",
    "        plt.plot(temp_x, y_pred, color='black', linestyle='--', alpha=0.2, label='Human ROC')\n",
    "        pfm_vals, phm_vals = diff_model.get_k_values_to_p_cc1(k_range, best_dp)\n",
    "        plt.plot(pfm_vals, phm_vals, color='black', alpha=0.5, label='Model ROC')\n",
    "        \n",
    "        plt.xlabel('p(F)')\n",
    "        plt.ylabel('p(H)')\n",
    "        plt.xlim(0, 1)\n",
    "        plt.ylim(0, 1)\n",
    "        plt.title(f'CC1 Subject {subject} ROC Fitting (d\\'={round(best_dp,3)})\\nSubject Accuracy: {subject_acc}    Model Accuracy: {model_acc}')\n",
    "        plt.legend()\n",
    "        plt.savefig(f'results/output/cc1_pmodel_{subject}.png')\n",
    "        plt.clf()\n"
   ]
  },
  {
   "cell_type": "code",
   "execution_count": null,
   "metadata": {},
   "outputs": [],
   "source": []
  }
 ],
 "metadata": {
  "kernelspec": {
   "display_name": "Python 3",
   "language": "python",
   "name": "python3"
  },
  "language_info": {
   "codemirror_mode": {
    "name": "ipython",
    "version": 3
   },
   "file_extension": ".py",
   "mimetype": "text/x-python",
   "name": "python",
   "nbconvert_exporter": "python",
   "pygments_lexer": "ipython3",
   "version": "3.6.0"
  }
 },
 "nbformat": 4,
 "nbformat_minor": 2
}
