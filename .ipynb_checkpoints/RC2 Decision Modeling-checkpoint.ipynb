{
 "cells": [
  {
   "cell_type": "code",
   "execution_count": 4,
   "metadata": {},
   "outputs": [],
   "source": [
    "import pandas as pd\n",
    "from IPython.display import clear_output"
   ]
  },
  {
   "cell_type": "code",
   "execution_count": 9,
   "metadata": {},
   "outputs": [],
   "source": [
    "import random\n",
    "import numpy as np\n",
    "import scipy.stats as st\n",
    "from scipy.stats import linregress\n",
    "import matplotlib.pyplot as plt\n",
    "\n",
    "class ReversedDecisionModel:\n",
    "    \n",
    "    def __init__(self):\n",
    "        pass\n",
    "        \n",
    "    def convert_k_to_p(self, d_prime, k1, k2):\n",
    "        \n",
    "        a_given_a = st.norm.cdf(k1 + d_prime/2)\n",
    "        b_given_a = 1 - st.norm.cdf(k2 + d_prime/2)\n",
    "        a_given_b = st.norm.cdf(k1 - d_prime/2)\n",
    "        b_given_b = 1 - st.norm.cdf(k2 - d_prime/2)\n",
    "        \n",
    "        p_aa = a_given_a*a_given_b + b_given_a*b_given_b\n",
    "        p_ab = a_given_a**2 + b_given_a**2\n",
    "        p_ba = a_given_b**2 + b_given_b**2\n",
    "        p_bb = a_given_b*a_given_a + b_given_b*b_given_a\n",
    "        \n",
    "        p_false = p_aa + p_bb\n",
    "        p_hit = p_ab + p_ba\n",
    "        \n",
    "        return p_false, p_hit\n",
    "        \n",
    "    def convert_k_to_z(self, d_prime, k1, k2):\n",
    "        \n",
    "        p_false, p_hit = self.convert_k_to_p(d_prime, k1, k2)\n",
    "        return st.norm.ppf(p_false), st.norm.ppf(p_hit)\n",
    "        \n",
    "    def sample_k1_k2_values_to_z(self, k_range, d_prime, num_points):\n",
    "        \n",
    "        #RC2a\n",
    "        zf_vals = []\n",
    "        zh_vals = []\n",
    "        \n",
    "        k_range = [n for n in np.linspace(k_range['k_min'], k_range['k_max'], k_range['k_num'])]\n",
    "        for _ in range(num_points):\n",
    "            k1 = random.choice(k_range)\n",
    "            \n",
    "            k2_range = [n for n in k_range if n >= k1]\n",
    "            k2 = random.choice(k2_range)\n",
    "            \n",
    "            z_f, z_h = self.convert_k_to_z(d_prime, k1, k2)\n",
    "            \n",
    "            zf_vals.append(z_f)\n",
    "            zh_vals.append(z_h)\n",
    "            \n",
    "        return zf_vals, zh_vals\n",
    "    \n",
    "    def sample_k1_k2_values_to_p(self, k_range, d_prime, num_points):\n",
    "        \n",
    "        # RC2a\n",
    "        pf_vals = []\n",
    "        ph_vals = []\n",
    "        \n",
    "        k_range = [n for n in np.linspace(k_range['k_min'], k_range['k_max'], k_range['k_num'])]\n",
    "        for _ in range(num_points):\n",
    "            k1 = random.choice(k_range)\n",
    "            \n",
    "            k2_range = [n for n in k_range if n >= k1]\n",
    "            k2 = random.choice(k2_range)\n",
    "            \n",
    "            p_f, p_h = self.convert_k_to_p(d_prime, k1, k2)\n",
    "            \n",
    "            pf_vals.append(p_f)\n",
    "            ph_vals.append(p_h)\n",
    "            \n",
    "        return pf_vals, ph_vals\n",
    "    \n",
    "    def sample_k_values_to_z(self, k_range, d_prime, num_points):\n",
    "        \n",
    "        # CC2s / RC2s\n",
    "        zf_vals = []\n",
    "        zh_vals = []\n",
    "        \n",
    "        k_range = [n for n in np.linspace(k_range['k_min'], k_range['k_max'], k_range['k_num'])]\n",
    "        for _ in range(num_points):\n",
    "            k = random.choice(k_range)\n",
    "            z_f, z_h = self.convert_k_to_z(d_prime, -k, k)\n",
    "            \n",
    "            zf_vals.append(z_f)\n",
    "            zh_vals.append(z_h)\n",
    "            \n",
    "        return zf_vals, zh_vals\n",
    "    \n",
    "    def sample_k_values_to_p(self, k_range, d_prime, num_points):\n",
    "        \n",
    "        # CC2s / RC2s\n",
    "        pf_vals = []\n",
    "        ph_vals = []\n",
    "        \n",
    "        k_range = [n for n in np.linspace(k_range['k_min'], k_range['k_max'], k_range['k_num'])]\n",
    "        for _ in range(num_points):\n",
    "            k = random.choice(k_range)\n",
    "            p_f, p_h = self.convert_k_to_p(d_prime, -k, k)\n",
    "            \n",
    "            pf_vals.append(p_f)\n",
    "            ph_vals.append(p_h)\n",
    "            \n",
    "        return pf_vals, ph_vals\n",
    "\n",
    "diff_model = ReversedDecisionModel()"
   ]
  },
  {
   "cell_type": "markdown",
   "metadata": {},
   "source": [
    "# RC2 k-Value Grid Sampling"
   ]
  },
  {
   "cell_type": "code",
   "execution_count": 10,
   "metadata": {},
   "outputs": [
    {
     "data": {
      "text/plain": [
       "<matplotlib.legend.Legend at 0x124ce42b0>"
      ]
     },
     "execution_count": 10,
     "metadata": {},
     "output_type": "execute_result"
    },
    {
     "data": {
      "image/png": "[encoded data removed]",
      "text/plain": [
       "<Figure size 432x288 with 1 Axes>"
      ]
     },
     "metadata": {
      "needs_background": "light"
     },
     "output_type": "display_data"
    }
   ],
   "source": [
    "k_range = {'k_min': -4, 'k_max': 4, 'k_num': 1000}\n",
    "zfa_vals, zha_vals = diff_model.sample_k1_k2_values_to_z(k_range, 1, 500)\n",
    "zfs_vals, zhs_vals = diff_model.sample_k_values_to_z(k_range, 1, 500)\n",
    "\n",
    "plt.scatter(zfa_vals, zha_vals, label='RC2a')\n",
    "plt.scatter(zfs_vals, zhs_vals, label='RC2s')\n",
    "plt.xlabel('z(F)')\n",
    "plt.ylabel('z(H)')\n",
    "plt.title('RC2 k-Sampling (d\\'=1, -4<k<4)')\n",
    "plt.legend()\n",
    "#plt.savefig('results/cc2_sampling_smallk.png')"
   ]
  },
  {
   "cell_type": "code",
   "execution_count": 112,
   "metadata": {},
   "outputs": [
    {
     "data": {
      "text/plain": [
       "<Figure size 576x432 with 0 Axes>"
      ]
     },
     "metadata": {},
     "output_type": "display_data"
    }
   ],
   "source": [
    "# RC2a/RC2s k-sampling using subject slope-intercept data\n",
    "\n",
    "k_range = {'k_min': -4, 'k_max': 4, 'k_num': 101}\n",
    "dp_range = {'dp_min': 0, 'dp_max': 2, 'dp_num': 11}\n",
    "\n",
    "mb_data = pd.read_csv('data/mb_data.csv', index_col=0)\n",
    "x_vals = [-4, 3]\n",
    "\n",
    "for dp in np.linspace(dp_range['dp_min'], dp_range['dp_max'], dp_range['dp_num']):\n",
    "    zfa_vals, zha_vals = diff_model.sample_k1_k2_values_to_z(k_range, dp, 500)\n",
    "    zfs_vals, zhs_vals = diff_model.sample_k_values_to_z(k_range, dp, 500)\n",
    "\n",
    "    plt.gcf().set_size_inches(8, 6)\n",
    "    plt.scatter(zfa_vals, zha_vals, alpha=0.3, marker='^', facecolor=\"none\", edgecolor='black', label='RC2a')\n",
    "    plt.scatter(zfs_vals, zhs_vals, alpha=0.3, marker='s', facecolor=\"none\", edgecolor='black', label='RC2s')\n",
    "    for index, row in mb_data.iterrows():\n",
    "        slope, intercept = row['Slope'], row['Intercept']\n",
    "        pred_vals = [slope * n + intercept for n in x_vals]\n",
    "        plt.plot(x_vals, pred_vals, color='black', alpha=0.1)\n",
    "    plt.xlabel('z(F)')\n",
    "    plt.ylabel('z(H)')\n",
    "    plt.xlim(-4, 3)\n",
    "    plt.ylim(-4, 3)\n",
    "    plt.title(f'RC2 k-Value Sampling (d\\'={round(dp,2)}, 0<k<4)')\n",
    "    plt.legend()\n",
    "    plt.savefig(f'results/k_sampling{round(dp,2)}.png')\n",
    "    plt.clf()"
   ]
  },
  {
   "cell_type": "code",
   "execution_count": 16,
   "metadata": {},
   "outputs": [
    {
     "data": {
      "text/plain": [
       "<Figure size 576x432 with 0 Axes>"
      ]
     },
     "metadata": {},
     "output_type": "display_data"
    }
   ],
   "source": [
    "# RC2 k-sampling w/ subject z-value data\n",
    "\n",
    "k_range = {'k_min': -4, 'k_max': 4, 'k_num': 201}\n",
    "dp_range = {'dp_min': 0, 'dp_max': 2.5, 'dp_num': 26}\n",
    "\n",
    "data = pd.read_csv('data/z_data.csv', index_col=0)\n",
    "x_vals = [-4, 3]\n",
    "explained_subs = ['BYZ','HP','HYP','SL','YPL','YJC','ZJT','QP','TCD','YCX','ZXL','ZY','CW','WJ','RSL','SJ2','LXL','SYB','WY','YJX','CY','GJ','JYN','SJ','SXQ','ZQT']\n",
    "\n",
    "for dp in np.linspace(dp_range['dp_min'], dp_range['dp_max'], dp_range['dp_num']):\n",
    "    zfa_vals, zha_vals = diff_model.sample_k1_k2_values_to_z(k_range, dp, 1000)\n",
    "    zfs_vals, zhs_vals = diff_model.sample_k_values_to_z(k_range, dp, 500)\n",
    "\n",
    "    plt.gcf().set_size_inches(8, 6)\n",
    "    plt.scatter(zfa_vals, zha_vals, alpha=0.3, marker='^', facecolor=\"none\", edgecolor='black', label='RC2a')\n",
    "    plt.scatter(zfs_vals, zhs_vals, alpha=0.3, marker='s', facecolor=\"none\", edgecolor='black', label='RC2s')\n",
    "\n",
    "    for i in range(len(data)):\n",
    "        sub_data = data.iloc[i]\n",
    "        if sub_data['Subject'] in explained_subs:\n",
    "            alpha = 0.3\n",
    "            zf_vals = sub_data.filter(like='ZF').tolist()\n",
    "            zh_vals = sub_data.filter(like='ZH').tolist()\n",
    "            plt.plot(zf_vals, zh_vals, color='black', alpha=alpha)    \n",
    "    \n",
    "    plt.xlabel('z(F)')\n",
    "    plt.ylabel('z(H)')\n",
    "    plt.xlim(-4, 3)\n",
    "    plt.ylim(-4, 3)\n",
    "    plt.title(f'RC2 k-Value Sampling (d\\'={round(dp,2)}, -4<k<4)')\n",
    "    plt.legend()\n",
    "    plt.savefig(f'results/k_sampling{round(dp,2)}.png')\n",
    "    plt.clf()\n"
   ]
  },
  {
   "cell_type": "code",
   "execution_count": 18,
   "metadata": {},
   "outputs": [
    {
     "data": {
      "text/plain": [
       "<Figure size 576x432 with 0 Axes>"
      ]
     },
     "metadata": {},
     "output_type": "display_data"
    }
   ],
   "source": [
    "# RC2a k-sampling w/ subject p-value data\n",
    "\n",
    "k_range = {'k_min': -4, 'k_max': 4, 'k_num': 201}\n",
    "dp_range = {'dp_min': 0, 'dp_max': 2.5, 'dp_num': 26}\n",
    "\n",
    "data = pd.read_csv('data/p_data.csv', index_col=0)\n",
    "x_vals = [-4, 3]\n",
    "explained_subs = ['BYZ','HP','HYP','SL','YPL','YJC','ZJT','QP','TCD','YCX','ZXL','ZY','CW','WJ','RSL','SJ2','LXL','SYB','WY','YJX','CY','GJ','JYN','SJ','SXQ','ZQT']\n",
    "\n",
    "for dp in np.linspace(dp_range['dp_min'], dp_range['dp_max'], dp_range['dp_num']):\n",
    "    pfa_vals, pha_vals = diff_model.sample_k1_k2_values_to_p(k_range, dp, 1000)\n",
    "    pfs_vals, phs_vals = diff_model.sample_k_values_to_p(k_range, dp, 500)\n",
    "\n",
    "    plt.gcf().set_size_inches(8, 6)\n",
    "    plt.scatter(pfa_vals, pha_vals, alpha=0.3, marker='^', facecolor=\"none\", edgecolor='black', label='RC2a')\n",
    "    plt.scatter(pfs_vals, phs_vals, alpha=0.3, marker='s', facecolor=\"none\", edgecolor='black', label='RC2s')\n",
    "\n",
    "    for i in range(len(data)):\n",
    "        sub_data = data.iloc[i]\n",
    "        if sub_data['Subject'].replace('\\'', \"\") in explained_subs:\n",
    "            alpha = 0.3\n",
    "            pf_vals = sub_data.filter(like='PF').tolist()\n",
    "            ph_vals = sub_data.filter(like='PH').tolist()\n",
    "            plt.plot(pf_vals, ph_vals, color='black', alpha=alpha)    \n",
    "    \n",
    "    plt.xlabel('p(F)')\n",
    "    plt.ylabel('p(H)')\n",
    "    plt.xlim(0, 1)\n",
    "    plt.ylim(0, 1)\n",
    "    plt.title(f'RC2 k-Value Sampling (d\\'={round(dp,2)}, -4<k<4)')\n",
    "    plt.legend()\n",
    "    plt.savefig(f'results/k_sampling{round(dp,2)}.png')\n",
    "    plt.clf()\n"
   ]
  },
  {
   "cell_type": "code",
   "execution_count": null,
   "metadata": {},
   "outputs": [],
   "source": []
  }
 ],
 "metadata": {
  "kernelspec": {
   "display_name": "Python 3",
   "language": "python",
   "name": "python3"
  },
  "language_info": {
   "codemirror_mode": {
    "name": "ipython",
    "version": 3
   },
   "file_extension": ".py",
   "mimetype": "text/x-python",
   "name": "python",
   "nbconvert_exporter": "python",
   "pygments_lexer": "ipython3",
   "version": "3.6.0"
  }
 },
 "nbformat": 4,
 "nbformat_minor": 2
}
