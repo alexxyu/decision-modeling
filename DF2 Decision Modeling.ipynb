{
 "cells": [
  {
   "cell_type": "code",
   "execution_count": 3,
   "metadata": {},
   "outputs": [],
   "source": [
    "import math\n",
    "import pandas as pd\n",
    "import matplotlib.pyplot as plt\n",
    "import scipy.odr.odrpack as odrpack\n",
    "from IPython.display import clear_output"
   ]
  },
  {
   "cell_type": "code",
   "execution_count": 4,
   "metadata": {},
   "outputs": [],
   "source": [
    "import random\n",
    "import numpy as np\n",
    "import scipy.stats as st\n",
    "\n",
    "class DifferencingDecisionModel:\n",
    "    \n",
    "    def __init__(self):\n",
    "        pass\n",
    "        \n",
    "    def convert_k_to_p(self, d_prime, k1, k2):\n",
    "        \n",
    "        p_k1_false = st.norm.cdf(-k1)\n",
    "        p_k2_false = st.norm.cdf(-k2)\n",
    "        p_false = p_k1_false + p_k2_false\n",
    "        \n",
    "        p_k1_hit = st.norm.cdf(-d_prime - k1) + st.norm.cdf(d_prime - k1)\n",
    "        p_k2_hit = st.norm.cdf(-d_prime - k2) + st.norm.cdf(d_prime - k2)\n",
    "        p_hit = (p_k1_hit + p_k2_hit)/2\n",
    "        \n",
    "        return p_false, p_hit\n",
    "        \n",
    "    def convert_k_to_z(self, d_prime, k1, k2):\n",
    "        \n",
    "        p_false, p_hit = self.convert_k_to_p(d_prime, k1, k2)\n",
    "        return st.norm.ppf(p_false), st.norm.ppf(p_hit)\n",
    "        \n",
    "    def sample_k1_k2_values_to_z(self, k_range, d_prime, num_points):\n",
    "        \n",
    "        # DF2\n",
    "        zf_vals = []\n",
    "        zh_vals = []\n",
    "        \n",
    "        k_range = [n for n in np.linspace(k_range['k_min'], k_range['k_max'], k_range['k_num'])]\n",
    "        for _ in range(num_points):\n",
    "            k1 = random.choice(k_range)\n",
    "            k2 = random.choice(k_range)\n",
    "            while k2 < -k1:\n",
    "                k2 = random.choice(k_range)\n",
    "            \n",
    "            z_f, z_h = self.convert_k_to_z(d_prime, k1, k2)\n",
    "            \n",
    "            zf_vals.append(z_f)\n",
    "            zh_vals.append(z_h)\n",
    "            \n",
    "        return zf_vals, zh_vals\n",
    "    \n",
    "    def sample_k1_k2_values_to_p(self, k_range, d_prime, num_points):\n",
    "        \n",
    "        # DF2\n",
    "        pf_vals = []\n",
    "        ph_vals = []\n",
    "        \n",
    "        k_range = [n for n in np.linspace(k_range['k_min'], k_range['k_max'], k_range['k_num'])]\n",
    "        for _ in range(num_points):\n",
    "            k1 = random.choice(k_range)\n",
    "            k2 = random.choice(k_range)\n",
    "            while k2 < -k1:\n",
    "                k2 = random.choice(k_range)\n",
    "            \n",
    "            p_f, p_h = self.convert_k_to_p(d_prime, k1, k2)\n",
    "            \n",
    "            pf_vals.append(p_f)\n",
    "            ph_vals.append(p_h)\n",
    "            \n",
    "        return pf_vals, ph_vals\n",
    "    \n",
    "    def sample_k_values_to_z(self, k_range, d_prime, num_points):\n",
    "        \n",
    "        # DF1\n",
    "        zf_vals = []\n",
    "        zh_vals = []\n",
    "        \n",
    "        k_range = [n for n in np.linspace(k_range['k_min'], k_range['k_max'], k_range['k_num'])]\n",
    "        for _ in range(num_points):\n",
    "            k = random.choice(k_range)\n",
    "            z_f, z_h = self.convert_k_to_z(d_prime, k, k)\n",
    "            \n",
    "            zf_vals.append(z_f)\n",
    "            zh_vals.append(z_h)\n",
    "            \n",
    "        return zf_vals, zh_vals\n",
    "    \n",
    "    def sample_k_values_to_p(self, k_range, d_prime, num_points):\n",
    "        \n",
    "        # DF1\n",
    "        pf_vals = []\n",
    "        ph_vals = []\n",
    "        \n",
    "        k_range = [n for n in np.linspace(k_range['k_min'], k_range['k_max'], k_range['k_num'])]\n",
    "        for _ in range(num_points):\n",
    "            k = random.choice(k_range)\n",
    "            p_f, p_h = self.convert_k_to_p(d_prime, k, k)\n",
    "            \n",
    "            pf_vals.append(p_f)\n",
    "            ph_vals.append(p_h)\n",
    "            \n",
    "        return pf_vals, ph_vals\n",
    "        \n",
    "    def get_k_values_to_z(self, k_range, d_prime):\n",
    "        \n",
    "        # DF1\n",
    "        zf_vals = []\n",
    "        zh_vals = []\n",
    "        \n",
    "        for k in np.linspace(k_range['k_min'], k_range['k_max'], k_range['k_num']):\n",
    "            if k == 0:\n",
    "                continue\n",
    "            z_f, z_h = self.convert_k_to_z(d_prime, k, k)\n",
    "            \n",
    "            zf_vals.append(z_f)\n",
    "            zh_vals.append(z_h)\n",
    "            \n",
    "        return zf_vals, zh_vals\n",
    "    \n",
    "    def get_k_values_to_p(self, k_range, d_prime):\n",
    "        \n",
    "        # DF1\n",
    "        pf_vals = []\n",
    "        ph_vals = []\n",
    "        \n",
    "        for k in np.linspace(k_range['k_min'], k_range['k_max'], k_range['k_num']):\n",
    "            if k == 0:\n",
    "                continue\n",
    "            p_f, p_h = self.convert_k_to_p(d_prime, k, k)\n",
    "            \n",
    "            pf_vals.append(p_f)\n",
    "            ph_vals.append(p_h)\n",
    "            \n",
    "        return pf_vals, ph_vals\n",
    "        \n",
    "diff_model = DifferencingDecisionModel()"
   ]
  },
  {
   "cell_type": "markdown",
   "metadata": {},
   "source": [
    "# DF2 k-Value Grid Sampling"
   ]
  },
  {
   "cell_type": "code",
   "execution_count": 9,
   "metadata": {},
   "outputs": [
    {
     "data": {
      "text/plain": [
       "Text(0.5, 1.0, \"DF2 k-Sampling (d'=0.5, 0<k<4)\")"
      ]
     },
     "execution_count": 9,
     "metadata": {},
     "output_type": "execute_result"
    },
    {
     "data": {
      "image/png": "[encoded data removed]",
      "text/plain": [
       "<Figure size 432x288 with 1 Axes>"
      ]
     },
     "metadata": {
      "needs_background": "light"
     },
     "output_type": "display_data"
    }
   ],
   "source": [
    "k_range = {'k_min': 0, 'k_max': 4, 'k_num': 1000}\n",
    "zf_vals, zh_vals = diff_model.sample_k1_k2_values_to_z(k_range, 1, 500)\n",
    "zf_vals_k, zh_vals_k = diff_model.sample_k_values_to_z(k_range, 1, 500)\n",
    "\n",
    "plt.scatter(zf_vals, zh_vals)\n",
    "plt.scatter(zf_vals_k, zh_vals_k, alpha=0.3)\n",
    "plt.xlabel('z(F)')\n",
    "plt.ylabel('z(H)')\n",
    "plt.title('DF2 k-Sampling (d\\'=0.5, 0<k<4)')\n",
    "#plt.savefig('results/df2_sampling_smallk.png')"
   ]
  },
  {
   "cell_type": "code",
   "execution_count": 15,
   "metadata": {},
   "outputs": [
    {
     "name": "stdout",
     "output_type": "stream",
     "text": [
      "\n"
     ]
    }
   ],
   "source": [
    "# DF1/DF2 k-sampling using subject slope-intercept data\n",
    "\n",
    "k_range = {'k_min': 0, 'k_max': 4, 'k_num': 101}\n",
    "dp_range = {'dp_min': 0, 'dp_max': 2, 'dp_num': 11}\n",
    "\n",
    "mb_data = pd.read_csv('data/mb_data.csv', index_col=0)\n",
    "x_vals = [-4, 3]\n",
    "\n",
    "for dp in np.linspace(dp_range['dp_min'], dp_range['dp_max'], dp_range['dp_num']):\n",
    "    zf_vals, zh_vals = diff_model.sample_k1_k2_values_to_z(k_range, dp, 500)\n",
    "    zf_vals_k, zh_vals_k = diff_model.sample_k_values_to_z(k_range, dp, 500)\n",
    "\n",
    "    plt.gcf().set_size_inches(8, 6)\n",
    "    plt.scatter(zf_vals, zh_vals, alpha=0.3, marker='^', facecolor=\"none\", edgecolor='black', label='DF2')\n",
    "    plt.scatter(zf_vals_k, zh_vals_k, alpha=0.3, marker='s', facecolor=\"none\", edgecolor='black', label='DF1')\n",
    "    for index, row in mb_data.iterrows():\n",
    "        slope, intercept = row['Slope'], row['Intercept']\n",
    "        pred_vals = [slope * n + intercept for n in x_vals]\n",
    "        plt.plot(x_vals, pred_vals, color='black', alpha=0.1)\n",
    "    plt.xlabel('z(F)')\n",
    "    plt.ylabel('z(H)')\n",
    "    plt.xlim(-4, 3)\n",
    "    plt.ylim(-4, 3)\n",
    "    plt.title(f'DF k-Value Sampling (d\\'={round(dp,2)}, 0<k<4)')\n",
    "    plt.legend()\n",
    "    plt.savefig(f'results/k_sampling{round(dp,2)}.png')\n",
    "    plt.clf()"
   ]
  },
  {
   "cell_type": "code",
   "execution_count": 11,
   "metadata": {},
   "outputs": [
    {
     "data": {
      "text/plain": [
       "<Figure size 576x432 with 0 Axes>"
      ]
     },
     "metadata": {},
     "output_type": "display_data"
    }
   ],
   "source": [
    "# DF2 k-sampling w/ subject z-value data\n",
    "\n",
    "k_range = {'k_min': -4, 'k_max': 4, 'k_num': 201}\n",
    "dp_range = {'dp_min': 0, 'dp_max': 2.5, 'dp_num': 26}\n",
    "\n",
    "data = pd.read_csv('data/z_data.csv', index_col=0)\n",
    "x_vals = [-4, 3]\n",
    "explained_subs = ['BYZ','HP','HYP','SL','YPL','YJC','ZJT','QP','TCD','YCX','ZXL','ZY','CW','WJ','RSL','SJ2','LXL','SYB','WY','YJX','CY','GJ','JYN','SJ','SXQ','ZQT']\n",
    "\n",
    "for dp in np.linspace(dp_range['dp_min'], dp_range['dp_max'], dp_range['dp_num']):\n",
    "    zf_vals, zh_vals = diff_model.sample_k1_k2_values_to_z(k_range, dp, 1000)\n",
    "\n",
    "    plt.gcf().set_size_inches(8, 6)\n",
    "    plt.scatter(zf_vals, zh_vals, alpha=0.3, marker='^', facecolor=\"none\", edgecolor='black')\n",
    "\n",
    "    for i in range(len(data)):\n",
    "        sub_data = data.iloc[i]\n",
    "        if sub_data['Subject'] in explained_subs:\n",
    "            alpha = 0.3\n",
    "            zf_vals = sub_data.filter(like='ZF').tolist()\n",
    "            zh_vals = sub_data.filter(like='ZH').tolist()\n",
    "            plt.plot(zf_vals, zh_vals, color='black', alpha=alpha)    \n",
    "    \n",
    "    plt.xlabel('z(F)')\n",
    "    plt.ylabel('z(H)')\n",
    "    plt.xlim(-4, 3)\n",
    "    plt.ylim(-4, 3)\n",
    "    plt.title(f'DF2 k-Value Sampling (d\\'={round(dp,2)}, -4<k<4)')\n",
    "    plt.savefig(f'results/k_sampling{round(dp,2)}.png')\n",
    "    plt.clf()\n"
   ]
  },
  {
   "cell_type": "code",
   "execution_count": 18,
   "metadata": {},
   "outputs": [
    {
     "data": {
      "text/plain": [
       "<Figure size 576x432 with 0 Axes>"
      ]
     },
     "metadata": {},
     "output_type": "display_data"
    }
   ],
   "source": [
    "# DF2 k-sampling w/ subject p-value data\n",
    "\n",
    "k_range = {'k_min': 0, 'k_max': 4, 'k_num': 201}\n",
    "dp_range = {'dp_min': 0, 'dp_max': 2.5, 'dp_num': 26}\n",
    "\n",
    "data = pd.read_csv('data/p_data.csv', index_col=0)\n",
    "x_vals = [-4, 3]\n",
    "explained_subs = ['BYZ','HP','HYP','SL','YPL','YJC','ZJT','QP','TCD','YCX','ZXL','ZY','CW','WJ','RSL','SJ2','LXL','SYB','WY','YJX','CY','GJ','JYN','SJ','SXQ','ZQT']\n",
    "\n",
    "for dp in np.linspace(dp_range['dp_min'], dp_range['dp_max'], dp_range['dp_num']):\n",
    "    pf_vals, ph_vals = diff_model.sample_k1_k2_values_to_p(k_range, dp, 1000)\n",
    "\n",
    "    plt.gcf().set_size_inches(8, 6)\n",
    "    plt.scatter(pf_vals, ph_vals, alpha=0.3, marker='^', facecolor=\"none\", edgecolor='black')\n",
    "\n",
    "    for i in range(len(data)):\n",
    "        sub_data = data.iloc[i]\n",
    "        if sub_data['Subject'].replace('\\'', \"\") in explained_subs:\n",
    "            alpha = 0.3\n",
    "            pf_vals = sub_data.filter(like='PF').tolist()\n",
    "            ph_vals = sub_data.filter(like='PH').tolist()\n",
    "            plt.plot(pf_vals, ph_vals, color='black', alpha=alpha)    \n",
    "    \n",
    "    plt.xlabel('p(F)')\n",
    "    plt.ylabel('p(H)')\n",
    "    plt.xlim(0, 1)\n",
    "    plt.ylim(0, 1)\n",
    "    plt.title(f'DF2 k-Value Sampling (d\\'={round(dp,2)}, -4<k<4)')\n",
    "    plt.savefig(f'results/k_sampling{round(dp,2)}.png')\n",
    "    plt.clf()\n"
   ]
  },
  {
   "cell_type": "markdown",
   "metadata": {},
   "source": [
    "# Fixed Parameter Plots"
   ]
  },
  {
   "cell_type": "code",
   "execution_count": 67,
   "metadata": {},
   "outputs": [
    {
     "data": {
      "image/png": "[encoded data removed]",
      "text/plain": [
       "<Figure size 432x288 with 1 Axes>"
      ]
     },
     "metadata": {
      "needs_background": "light"
     },
     "output_type": "display_data"
    }
   ],
   "source": [
    "k1_range = {'k_min': 0, 'k_max': 5, 'k_num': 100}\n",
    "data_zf = []\n",
    "data_zh = []\n",
    "for k2 in range(5):\n",
    "    k_data_zf = []\n",
    "    k_data_zh = []\n",
    "    for k1 in np.linspace(k1_range['k_min'], k1_range['k_max'], k1_range['k_num']):\n",
    "        zf,zh = diff_model.convert_k_to_z(0.3, k1, k2)\n",
    "        k_data_zf.append(zf)\n",
    "        k_data_zh.append(zh)\n",
    "        \n",
    "    data_zf.append(k_data_zf)\n",
    "    data_zh.append(k_data_zh)\n",
    "\n",
    "for i in range(len(data_zf)):\n",
    "    plt.scatter(data_zf[i], data_zh[i], label=f'k2={-i}', alpha=0.3)\n",
    "plt.xlabel('z(F)')\n",
    "plt.ylabel('z(H)')\n",
    "plt.title('z-Value over Fixed k2 (d\\'=0.3)')\n",
    "plt.legend()\n",
    "plt.savefig('results/z_fixedk2_smalldp.png')"
   ]
  },
  {
   "cell_type": "code",
   "execution_count": 116,
   "metadata": {},
   "outputs": [
    {
     "data": {
      "text/plain": [
       "<Figure size 576x432 with 0 Axes>"
      ]
     },
     "metadata": {},
     "output_type": "display_data"
    }
   ],
   "source": [
    "k1_range = {'k_min': 0, 'k_max': 4, 'k_num': 101}\n",
    "dp_range = {'dp_min': 0, 'dp_max': 2, 'dp_num': 11}\n",
    "\n",
    "for dp in np.linspace(dp_range['dp_min'], dp_range['dp_max'], dp_range['dp_num']):\n",
    "    data_zf = []\n",
    "    data_zh = []\n",
    "    for k2 in range(0, 5):\n",
    "        k_data_zf = []\n",
    "        k_data_zh = []\n",
    "        for k1 in np.linspace(k1_range['k_min'], k1_range['k_max'], k1_range['k_num']):\n",
    "            zf,zh = diff_model.convert_k_to_z(dp, k1, k2)\n",
    "            k_data_zf.append(zf)\n",
    "            k_data_zh.append(zh)\n",
    "            \n",
    "        k_data_zf = [n for n in k_data_zf if abs(n) != np.inf]\n",
    "        k_data_zh = [n for n in k_data_zh if abs(n) != np.inf]\n",
    "        data_zf.append(k_data_zf)\n",
    "        data_zh.append(k_data_zh)\n",
    "\n",
    "    for i in range(len(data_zf)):\n",
    "        model = linregress(data_zf[i], data_zh[i])\n",
    "        plt.scatter(data_zf[i], data_zh[i], alpha=0.3, label=f'k2={-i}: y={round(model.intercept,3)}+{round(model.slope, 3)}x')\n",
    "    plt.gcf().set_size_inches(8, 6)\n",
    "    plt.xlabel('z(F)')\n",
    "    plt.ylabel('z(H)')\n",
    "    plt.title(f'z-Value over Fixed d\\' (d\\'={round(dp,2)})')\n",
    "    plt.legend()\n",
    "    plt.savefig(f'results/z_fixeddp{round(dp,2)}.png')\n",
    "    plt.clf()"
   ]
  },
  {
   "cell_type": "code",
   "execution_count": 114,
   "metadata": {},
   "outputs": [
    {
     "data": {
      "text/plain": [
       "<Figure size 576x432 with 0 Axes>"
      ]
     },
     "metadata": {},
     "output_type": "display_data"
    }
   ],
   "source": [
    "k1_range = {'k_min': 0, 'k_max': 5, 'k_num': 100}\n",
    "dp_range = {'dp_min': 0, 'dp_max': 2, 'dp_num': 11}\n",
    "\n",
    "for dp in np.linspace(dp_range['dp_min'], dp_range['dp_max'], dp_range['dp_num']):\n",
    "    data_pf = []\n",
    "    data_ph = []\n",
    "    for k2 in range(0, 5):\n",
    "        k_data_pf = []\n",
    "        k_data_ph = []\n",
    "        for k1 in np.linspace(k1_range['k_min'], k1_range['k_max'], k1_range['k_num']):\n",
    "            pf,ph = diff_model.convert_k_to_p(dp, k1, k2)\n",
    "            k_data_pf.append(pf)\n",
    "            k_data_ph.append(ph)\n",
    "            \n",
    "        k_data_pf = [n for n in k_data_pf if abs(n) != np.inf]\n",
    "        k_data_ph = [n for n in k_data_ph if abs(n) != np.inf]\n",
    "        data_pf.append(k_data_pf)\n",
    "        data_ph.append(k_data_ph)\n",
    "\n",
    "    for i in range(len(data_pf)):\n",
    "        model = linregress(data_pf[i], data_ph[i])\n",
    "        plt.scatter(data_pf[i], data_ph[i], alpha=0.3, label=f'k2={-i}: y={round(model.intercept,3)}+{round(model.slope, 3)}x')\n",
    "    plt.gcf().set_size_inches(8, 6)\n",
    "    plt.xlabel('p(F)')\n",
    "    plt.ylabel('p(H)')\n",
    "    plt.title(f'p-Value over Fixed d\\' (d\\'={round(dp,2)})')\n",
    "    plt.legend()\n",
    "    plt.savefig(f'results/p_fixeddp{round(dp,2)}.png')\n",
    "    plt.clf()"
   ]
  },
  {
   "cell_type": "markdown",
   "metadata": {},
   "source": [
    "# Analyzing DF1 ROC Fit"
   ]
  },
  {
   "cell_type": "code",
   "execution_count": 5,
   "metadata": {},
   "outputs": [],
   "source": [
    "def distance(point, coef):\n",
    "    return abs((coef[0]*point[0])-point[1]+coef[1])/math.sqrt((coef[0]*coef[0])+1)\n",
    "\n",
    "def p4(p1, p2, p3):\n",
    "    x1, y1 = p1\n",
    "    x2, y2 = p2\n",
    "    x3, y3 = p3\n",
    "    dx, dy = x2-x1, y2-y1\n",
    "    det = dx*dx + dy*dy\n",
    "    a = (dy*(y3-y1)+dx*(x3-x1))/det\n",
    "    return x1+a*dx, y1+a*dy\n",
    "\n",
    "def f(B, x):\n",
    "    return B[0]*x + B[1]\n",
    "linear = odrpack.Model(f)"
   ]
  },
  {
   "cell_type": "code",
   "execution_count": 6,
   "metadata": {},
   "outputs": [
    {
     "name": "stdout",
     "output_type": "stream",
     "text": [
      "CSF TLS slope: 1.0028619619006445\n",
      "TLS value: 12.265607189379818\tR^2: 0.996\n",
      "LT TLS slope: 0.905964790070835\n",
      "TLS value: 7.40585149095371\tR^2: 0.998\n",
      "ZBY TLS slope: 0.8016524510555929\n",
      "TLS value: 1.5630520173557965\tR^2: 1.0\n",
      "DLC TLS slope: 1.0277976800645598\n",
      "TLS value: 2.5742410931097552\tR^2: 0.999\n",
      "GAX TLS slope: 1.1368243854933529\n",
      "TLS value: 28.958201301622204\tR^2: 0.987\n",
      "HMH TLS slope: 1.0062878358531209\n",
      "TLS value: 2.9650937458944995\tR^2: 0.999\n",
      "LMT TLS slope: 1.045244291738568\n",
      "TLS value: 14.282878785591631\tR^2: 0.997\n",
      "PC TLS slope: 0.9450103493481479\n",
      "TLS value: 1.298816138709779\tR^2: 1.0\n",
      "SZJ TLS slope: 1.010588634237981\n",
      "TLS value: 2.7393059169859355\tR^2: 0.997\n",
      "WYX TLS slope: 1.16648171357917\n",
      "TLS value: 16.089746490061565\tR^2: 0.985\n",
      "ZJ TLS slope: 1.0048930538391838\n",
      "TLS value: 1.2134311960497974\tR^2: 1.0\n"
     ]
    },
    {
     "data": {
      "text/plain": [
       "<Figure size 576x432 with 0 Axes>"
      ]
     },
     "metadata": {},
     "output_type": "display_data"
    }
   ],
   "source": [
    "k_range = {'k_min': 0, 'k_max': 4, 'k_num': 201}\n",
    "dp_range = {'dp_min': 0, 'dp_max': 2.5, 'dp_num': 101}\n",
    "\n",
    "z_data = pd.read_csv('data/z_data.csv', index_col=0)\n",
    "p_data = pd.read_csv('data/p_data.csv', index_col=0)\n",
    "p_data['Subject'] = p_data['Subject'].str.replace('\\'', '')\n",
    "x_vals = [-5, 5]\n",
    "explained_subs = ['CSF','LT','ZBY','DLC','HMH','GAX','LMT','PC','SZJ','WYX','ZJ']\n",
    "\n",
    "for i in range(len(z_data)):\n",
    "    \n",
    "    z_sub_data = z_data.iloc[i]\n",
    "    subject = z_sub_data['Subject'].replace('\\'', \"\")\n",
    "\n",
    "    if subject in explained_subs:    \n",
    "\n",
    "        # Unpack subject data\n",
    "        zf_vals = [n for n in z_sub_data.filter(like='ZF').tolist() if n != 0]\n",
    "        zh_vals = [n for n in z_sub_data.filter(like='ZH').tolist() if n != 0]\n",
    "        pf_vals = [st.norm.cdf(z) for z in zf_vals]\n",
    "        ph_vals = [st.norm.cdf(z) for z in zh_vals]\n",
    "\n",
    "        # Find subject TLS regression line\n",
    "        odr_data = odrpack.RealData(zf_vals, zh_vals)\n",
    "        odr = odrpack.ODR(odr_data, linear, beta0=[1., 1.])\n",
    "        subject_slope, subject_intercept = odr.run().beta\n",
    "        print(f'{subject} TLS slope: {subject_slope}')\n",
    "        \n",
    "        coef = [subject_slope, subject_intercept]\n",
    "        \n",
    "        # Find d' that yields closest fitting z-ROC\n",
    "        lowest_tls = np.inf\n",
    "        best_dp = 0\n",
    "        for dp in np.linspace(dp_range['dp_min'], dp_range['dp_max'], dp_range['dp_num']):\n",
    "            zfm_vals, zhm_vals = diff_model.get_k_values_to_z(k_range, dp)\n",
    "            zfm_vals_new = [zfm_vals[i] for i in range(len(zfm_vals)) if zfm_vals[i] <= 1.2*max(zf_vals) and zhm_vals[i] <= 1.2*max(zh_vals) and zfm_vals[i] >= 1.2*min(zf_vals) and zhm_vals[i] >= 1.2*min(zh_vals)]\n",
    "            zhm_vals_new = [zhm_vals[i] for i in range(len(zhm_vals)) if zfm_vals[i] <= 1.2*max(zf_vals) and zhm_vals[i] <= 1.2*max(zh_vals) and zfm_vals[i] >= 1.2*min(zf_vals) and zhm_vals[i] >= 1.2*min(zh_vals)]\n",
    "            zfm_vals, zhm_vals = zfm_vals_new, zhm_vals_new\n",
    "            \n",
    "            if len(zfm_vals) < 2:\n",
    "                continue\n",
    "            \n",
    "            tls = np.sum([distance([f, h], coef) for f, h in zip(zfm_vals, zhm_vals)])\n",
    "\n",
    "            if tls < lowest_tls:\n",
    "                lowest_tls = tls\n",
    "                best_dp = dp\n",
    "\n",
    "        # Calculate R^2\n",
    "        p1 = (-5, subject_intercept + subject_slope * -5)\n",
    "        p2 = (5, subject_intercept + subject_slope * 5)\n",
    "        zfm_vals, zhm_vals = diff_model.get_k_values_to_z(k_range, best_dp)\n",
    "        zfm_vals_new = [zfm_vals[i] for i in range(len(zfm_vals)) if zfm_vals[i] <= 1.2*max(zf_vals) and zhm_vals[i] <= 1.2*max(zh_vals) and zfm_vals[i] >= 1.2*min(zf_vals) and zhm_vals[i] >= 1.2*min(zh_vals)]\n",
    "        zhm_vals_new = [zhm_vals[i] for i in range(len(zhm_vals)) if zfm_vals[i] <= 1.2*max(zf_vals) and zhm_vals[i] <= 1.2*max(zh_vals) and zfm_vals[i] >= 1.2*min(zf_vals) and zhm_vals[i] >= 1.2*min(zh_vals)]\n",
    "        zfm_vals, zhm_vals = zfm_vals_new, zhm_vals_new\n",
    "        ssr = np.sum([(mx - p4(p1, p2, (mx, my))[0])**2 + (my - p4(p1, p2, (mx, my))[1])**2 for mx, my in zip(zfm_vals, zhm_vals)])\n",
    "        sst = np.sum([(mx - np.mean(zfm_vals))**2 + (my - np.mean(zhm_vals))**2 for mx, my in zip(zfm_vals, zhm_vals)])\n",
    "        r_squared = round(1 - ssr/sst, 3)\n",
    "        \n",
    "        print(f\"TLS value: {lowest_tls}\\tR^2: {r_squared}\")\n",
    "        \n",
    "        # Plot z-ROC\n",
    "        plt.gcf().set_size_inches(8, 6)\n",
    "        y_pred = [subject_intercept + subject_slope * n for n in x_vals]\n",
    "        plt.plot(zf_vals, zh_vals, color='black', label='Human Data')\n",
    "        zfm_vals, zhm_vals = diff_model.get_k_values_to_z(k_range, best_dp)\n",
    "        plt.plot(x_vals, y_pred, color='black', linestyle='--', alpha=0.2, label=f'Human ROC: y={round(subject_intercept, 3)}+{round(subject_slope, 3)}x')\n",
    "        plt.plot(zfm_vals, zhm_vals, color='black', alpha=0.5, label='Model ROC')\n",
    "\n",
    "        plt.xlabel('z(F)')\n",
    "        plt.ylabel('z(H)')\n",
    "        plt.xlim(-4, 3)\n",
    "        plt.ylim(-4, 3)\n",
    "        subject_acc = round(z_sub_data['Accuracy'], 3)\n",
    "        model_acc = round((st.norm.cdf(best_dp/2))**2 + (st.norm.cdf(-best_dp/2))**2, 3)\n",
    "        plt.title(f'DF1 Subject {subject} ROC Fitting (d\\'={round(best_dp,3)})\\nR^2={r_squared}\\nSubject Accuracy: {subject_acc}    Model Accuracy: {model_acc}')\n",
    "        plt.legend()\n",
    "        plt.savefig(f'results/output/df1_zmodel_{subject}.png')\n",
    "        plt.clf()\n",
    "        \n",
    "        # Plot p-ROC\n",
    "        plt.gcf().set_size_inches(8, 6)\n",
    "        plt.plot(pf_vals, ph_vals, color='black', label='Human Data')\n",
    "        temp_x = np.linspace(-4, 3, 26)\n",
    "        y_pred = [subject_intercept + subject_slope * n for n in temp_x]\n",
    "        temp_x = [st.norm.cdf(val) for val in temp_x]\n",
    "        y_pred = [st.norm.cdf(val) for val in y_pred]\n",
    "        plt.plot(temp_x, y_pred, color='black', linestyle='--', alpha=0.2, label='Human ROC')\n",
    "        pfm_vals, phm_vals = diff_model.get_k_values_to_p(k_range, best_dp)\n",
    "        plt.plot(pfm_vals, phm_vals, color='black', alpha=0.5, label='Model ROC')\n",
    "        \n",
    "        plt.xlabel('p(F)')\n",
    "        plt.ylabel('p(H)')\n",
    "        plt.xlim(0, 1)\n",
    "        plt.ylim(0, 1)\n",
    "        plt.title(f'DF1 Subject {subject} ROC Fitting (d\\'={round(best_dp,3)})\\nR^2={r_squared}\\nSubject Accuracy: {subject_acc}    Model Accuracy: {model_acc}')\n",
    "        plt.legend()\n",
    "        plt.savefig(f'results/output/df1_pmodel_{subject}.png')\n",
    "        plt.clf()\n"
   ]
  },
  {
   "cell_type": "code",
   "execution_count": null,
   "metadata": {},
   "outputs": [],
   "source": []
  }
 ],
 "metadata": {
  "kernelspec": {
   "display_name": "Python 3",
   "language": "python",
   "name": "python3"
  },
  "language_info": {
   "codemirror_mode": {
    "name": "ipython",
    "version": 3
   },
   "file_extension": ".py",
   "mimetype": "text/x-python",
   "name": "python",
   "nbconvert_exporter": "python",
   "pygments_lexer": "ipython3",
   "version": "3.6.0"
  }
 },
 "nbformat": 4,
 "nbformat_minor": 2
}
